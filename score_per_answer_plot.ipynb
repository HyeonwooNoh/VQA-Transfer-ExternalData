{
 "cells": [
  {
   "cell_type": "code",
   "execution_count": 1,
   "metadata": {},
   "outputs": [],
   "source": [
    "%matplotlib inline"
   ]
  },
  {
   "cell_type": "code",
   "execution_count": 2,
   "metadata": {
    "scrolled": true
   },
   "outputs": [
    {
     "name": "stderr",
     "output_type": "stream",
     "text": [
      "/home/hyeonwoonoh/.local/lib/python2.7/site-packages/h5py/__init__.py:36: FutureWarning: Conversion of the second argument of issubdtype from `float` to `np.floating` is deprecated. In future, it will be treated as `np.float64 == np.dtype(float).type`.\n",
      "  from ._conv import register_converters as _register_converters\n"
     ]
    }
   ],
   "source": [
    "import cPickle\n",
    "import copy\n",
    "import h5py\n",
    "import json\n",
    "import glob\n",
    "import os\n",
    "import numpy as np\n",
    "\n",
    "from collections import defaultdict, Counter\n",
    "from matplotlib import pyplot as plt\n",
    "from nltk.corpus import wordnet as wn\n",
    "from tqdm import tqdm\n",
    "from PIL import Image, ImageDraw"
   ]
  },
  {
   "cell_type": "code",
   "execution_count": 3,
   "metadata": {},
   "outputs": [],
   "source": [
    "import math"
   ]
  },
  {
   "cell_type": "code",
   "execution_count": 83,
   "metadata": {},
   "outputs": [],
   "source": [
    "plt.style.use('seaborn')"
   ]
  },
  {
   "cell_type": "code",
   "execution_count": 4,
   "metadata": {},
   "outputs": [],
   "source": [
    "genome_dir = 'data/preprocessed/visualgenome/memft_all_new_vocab50_obj3000_attr1000_maxlen10'\n",
    "vqa_dir = 'data/preprocessed/vqa_v2/qa_split_objattr_answer_3div4_genome_memft_check_all_answer_thres1_50000_thres2_-1'\n",
    "genome_img_dir = 'data/VisualGenome/VG_100K'\n",
    "vqa_img_dir = 'data/VQA_v2/images'"
   ]
  },
  {
   "cell_type": "code",
   "execution_count": 5,
   "metadata": {},
   "outputs": [],
   "source": [
    "vqa_anno = cPickle.load(open(os.path.join(vqa_dir, 'merged_annotations.pkl'), 'rb'))"
   ]
  },
  {
   "cell_type": "code",
   "execution_count": 6,
   "metadata": {},
   "outputs": [],
   "source": [
    "qa_split = cPickle.load(open(os.path.join(vqa_dir, 'qa_split.pkl'), 'rb'))"
   ]
  },
  {
   "cell_type": "code",
   "execution_count": 7,
   "metadata": {},
   "outputs": [],
   "source": [
    "qa_dict = cPickle.load(open(os.path.join(vqa_dir, 'answer_dict.pkl'), 'rb'))"
   ]
  },
  {
   "cell_type": "code",
   "execution_count": 8,
   "metadata": {},
   "outputs": [],
   "source": [
    "not_test_answers = qa_dict['vocab'][:qa_dict['num_train_answer']]\n",
    "test_answers = qa_dict['vocab'][qa_dict['num_train_answer']:]"
   ]
  },
  {
   "cell_type": "code",
   "execution_count": 9,
   "metadata": {},
   "outputs": [
    {
     "name": "stderr",
     "output_type": "stream",
     "text": [
      "100%|██████████| 115121/115121 [00:00<00:00, 220728.22it/s]\n"
     ]
    }
   ],
   "source": [
    "not_test_answer_set = set(not_test_answers)\n",
    "pure_test_qids = []\n",
    "for qid in tqdm(qa_split['test']):\n",
    "    anno = vqa_anno[qid]\n",
    "    answers_set = set(anno['processed_answers'])\n",
    "    if len(not_test_answer_set & answers_set) == 0:\n",
    "        pure_test_qids.append(qid)"
   ]
  },
  {
   "cell_type": "code",
   "execution_count": 241,
   "metadata": {},
   "outputs": [],
   "source": [
    "# ws + bf\n",
    "q_embed_dir1 = 'experiments/important/0424_main_contribution_exp_answer_zs_3div4/vqa_vlmap_answer_d_qa_split_objattr_answer_3div4_genome_memft_check_all_answer_thres1_50000_thres2_-1_tf_record_memft_vfeat_bottomup_36_my_bf_only_sp_bs512_lr0.001_20180423-231715/model-2401_eval_test_20180429-113508'\n",
    "# noc ws + bf\n",
    "q_embed_dir2 = 'experiments/important/0424_main_contribution_exp_answer_zs_3div4/vqa_vlmap_answer_d_qa_split_objattr_answer_3div4_genome_memft_check_all_answer_thres1_50000_thres2_-1_tf_record_memft_vfeat_bottomup_36_my_wordset_only_sp_bs512_lr0.001_20180424-124312/model-2401_eval_test_20180429-114943'"
   ]
  },
  {
   "cell_type": "code",
   "execution_count": 209,
   "metadata": {},
   "outputs": [
    {
     "data": {
      "text/plain": [
       "['experiments/important/0424_main_contribution_exp_answer_zs_3div4/vqa_vlmap_answer_d_qa_split_objattr_answer_3div4_genome_memft_check_all_answer_thres1_50000_thres2_-1_tf_record_memft_vfeat_bottomup_36_my_bf_or_wordset_sp_bs512_lr0.001_20180423-205117/model-4801_eval_test_20180429-114451/results.pkl']"
      ]
     },
     "execution_count": 209,
     "metadata": {},
     "output_type": "execute_result"
    }
   ],
   "source": [
    "glob.glob(q_embed_dir1 + '/*')"
   ]
  },
  {
   "cell_type": "code",
   "execution_count": 242,
   "metadata": {},
   "outputs": [
    {
     "name": "stdout",
     "output_type": "stream",
     "text": [
      "['avg_eval_report', 'qid2result']\n",
      "0.47357464\n"
     ]
    }
   ],
   "source": [
    "q_embed_dict = cPickle.load(open(q_embed_dir1 + '/results.pkl', 'rb'))\n",
    "print(q_embed_dict.keys())\n",
    "print(q_embed_dict['avg_eval_report']['testonly_score'])\n",
    "qid2res1 = q_embed_dict['qid2result']"
   ]
  },
  {
   "cell_type": "code",
   "execution_count": 243,
   "metadata": {},
   "outputs": [
    {
     "name": "stdout",
     "output_type": "stream",
     "text": [
      "['avg_eval_report', 'qid2result']\n",
      "0.45960486\n"
     ]
    }
   ],
   "source": [
    "q_embed_dict = cPickle.load(open(q_embed_dir2 + '/results.pkl', 'rb'))\n",
    "print(q_embed_dict.keys())\n",
    "print(q_embed_dict['avg_eval_report']['testonly_score'])\n",
    "qid2res2 = q_embed_dict['qid2result']"
   ]
  },
  {
   "cell_type": "code",
   "execution_count": 244,
   "metadata": {},
   "outputs": [
    {
     "data": {
      "text/plain": [
       "0.4735746563581214"
      ]
     },
     "execution_count": 244,
     "metadata": {},
     "output_type": "execute_result"
    }
   ],
   "source": [
    "sum([qid2res1[qid]['score'] for qid in pure_test_qids]) / float(len(pure_test_qids))"
   ]
  },
  {
   "cell_type": "code",
   "execution_count": 245,
   "metadata": {},
   "outputs": [
    {
     "data": {
      "text/plain": [
       "{'image_id': 'train2014-COCO_train2014_000000458752.jpg',\n",
       " 'max_train_score': 0.0,\n",
       " 'pred': u'baseball field',\n",
       " 'question': u'what is this photo taken looking through ?',\n",
       " 'score': 0.0,\n",
       " 'test_attr_max_score': 0.0,\n",
       " 'test_attr_score': 0.0,\n",
       " 'test_obj_max_score': 1.0,\n",
       " 'test_obj_score': 0.0}"
      ]
     },
     "execution_count": 245,
     "metadata": {},
     "output_type": "execute_result"
    }
   ],
   "source": [
    "qid2res1.values()[0]"
   ]
  },
  {
   "cell_type": "code",
   "execution_count": 246,
   "metadata": {},
   "outputs": [],
   "source": [
    "test_answer_set = set(test_answers)"
   ]
  },
  {
   "cell_type": "code",
   "execution_count": 247,
   "metadata": {},
   "outputs": [
    {
     "name": "stderr",
     "output_type": "stream",
     "text": [
      "100%|██████████| 658111/658111 [00:03<00:00, 182982.09it/s]\n"
     ]
    }
   ],
   "source": [
    "for qid in tqdm(vqa_anno):\n",
    "    anno = vqa_anno[qid]\n",
    "    anno['answer_count'] = dict(Counter(anno['processed_answers']))"
   ]
  },
  {
   "cell_type": "code",
   "execution_count": 248,
   "metadata": {},
   "outputs": [],
   "source": [
    "def get_score(occurrence):\n",
    "    if occurrence == 0:\n",
    "        return 0\n",
    "    elif occurrence == 1:\n",
    "        return 0.3\n",
    "    elif occurrence == 2:\n",
    "        return 0.6\n",
    "    elif occurrence == 3:\n",
    "        return 0.9\n",
    "    else: return 1.0"
   ]
  },
  {
   "cell_type": "code",
   "execution_count": 249,
   "metadata": {},
   "outputs": [],
   "source": [
    "a = []\n",
    "for qid in pure_test_qids:\n",
    "    res = qid2res2[qid]\n",
    "    a.append(res['score'])"
   ]
  },
  {
   "cell_type": "code",
   "execution_count": 250,
   "metadata": {},
   "outputs": [
    {
     "data": {
      "text/plain": [
       "0.45960486"
      ]
     },
     "execution_count": 250,
     "metadata": {},
     "output_type": "execute_result"
    }
   ],
   "source": [
    "np.array(a).mean()"
   ]
  },
  {
   "cell_type": "code",
   "execution_count": 251,
   "metadata": {},
   "outputs": [
    {
     "data": {
      "text/plain": [
       "['processed_answers',\n",
       " u'answer_type',\n",
       " 'image_path',\n",
       " 'q_tokens',\n",
       " 'question',\n",
       " u'multiple_choice_answer',\n",
       " u'answers',\n",
       " u'image_id',\n",
       " 'answer_count',\n",
       " 'split',\n",
       " u'question_type',\n",
       " 'a_tokens',\n",
       " u'question_id']"
      ]
     },
     "execution_count": 251,
     "metadata": {},
     "output_type": "execute_result"
    }
   ],
   "source": [
    "anno.keys()"
   ]
  },
  {
   "cell_type": "code",
   "execution_count": null,
   "metadata": {},
   "outputs": [],
   "source": []
  },
  {
   "cell_type": "code",
   "execution_count": 252,
   "metadata": {},
   "outputs": [],
   "source": [
    "qid2res = qid2res1\n",
    "ans2scores1 = defaultdict(list)\n",
    "qtype2scores1 = defaultdict(list)\n",
    "atype2scores1 = defaultdict(list)\n",
    "for qid in pure_test_qids:\n",
    "    res = qid2res[qid]\n",
    "    anno = vqa_anno[qid]\n",
    "    qtype2scores1[anno['question_type']].append(res['score'])\n",
    "    atype2scores1[anno['answer_type']].append(res['score'])\n",
    "    for ans, cnt in anno['answer_count'].items():\n",
    "        ans_score = get_score(cnt)\n",
    "        if ans in test_answers:\n",
    "            ans2scores1[ans].append(min(res['score'], ans_score) / float(ans_score))"
   ]
  },
  {
   "cell_type": "code",
   "execution_count": 253,
   "metadata": {},
   "outputs": [],
   "source": [
    "qid2res = qid2res2\n",
    "ans2scores2 = defaultdict(list)\n",
    "qtype2scores2 = defaultdict(list)\n",
    "atype2scores2 = defaultdict(list)\n",
    "for qid in pure_test_qids:\n",
    "    res = qid2res[qid]\n",
    "    anno = vqa_anno[qid]\n",
    "    qtype2scores2[anno['question_type']].append(res['score'])\n",
    "    atype2scores2[anno['answer_type']].append(res['score'])\n",
    "    for ans, cnt in anno['answer_count'].items():\n",
    "        ans_score = get_score(cnt)\n",
    "        if ans in test_answers:\n",
    "            ans2scores2[ans].append(min(res['score'], ans_score) / float(ans_score))"
   ]
  },
  {
   "cell_type": "code",
   "execution_count": 316,
   "metadata": {},
   "outputs": [],
   "source": [
    "for qid in pure_test_qids:\n",
    "    anno = vqa_anno[qid]\n",
    "    if anno['question_type'] == 'what time':\n",
    "        break"
   ]
  },
  {
   "cell_type": "code",
   "execution_count": 317,
   "metadata": {},
   "outputs": [
    {
     "data": {
      "text/plain": [
       "{'a_tokens': [u'winter'],\n",
       " 'answer_count': {u'winter': 10},\n",
       " u'answer_type': u'other',\n",
       " u'answers': [{u'answer': u'winter',\n",
       "   u'answer_confidence': u'yes',\n",
       "   u'answer_id': 1},\n",
       "  {u'answer': u'winter', u'answer_confidence': u'yes', u'answer_id': 2},\n",
       "  {u'answer': u'winter', u'answer_confidence': u'yes', u'answer_id': 3},\n",
       "  {u'answer': u'winter', u'answer_confidence': u'yes', u'answer_id': 4},\n",
       "  {u'answer': u'winter', u'answer_confidence': u'yes', u'answer_id': 5},\n",
       "  {u'answer': u'winter', u'answer_confidence': u'yes', u'answer_id': 6},\n",
       "  {u'answer': u'winter', u'answer_confidence': u'maybe', u'answer_id': 7},\n",
       "  {u'answer': u'winter', u'answer_confidence': u'yes', u'answer_id': 8},\n",
       "  {u'answer': u'winter', u'answer_confidence': u'yes', u'answer_id': 9},\n",
       "  {u'answer': u'winter', u'answer_confidence': u'yes', u'answer_id': 10}],\n",
       " u'image_id': 26552,\n",
       " 'image_path': 'train2014/COCO_train2014_000000026552.jpg',\n",
       " u'multiple_choice_answer': u'winter',\n",
       " 'processed_answers': [u'winter',\n",
       "  u'winter',\n",
       "  u'winter',\n",
       "  u'winter',\n",
       "  u'winter',\n",
       "  u'winter',\n",
       "  u'winter',\n",
       "  u'winter',\n",
       "  u'winter',\n",
       "  u'winter'],\n",
       " 'q_tokens': [u'what',\n",
       "  u'time',\n",
       "  u'of',\n",
       "  u'year',\n",
       "  u'is',\n",
       "  u'it',\n",
       "  u'in',\n",
       "  u'the',\n",
       "  u'image',\n",
       "  u'?'],\n",
       " 'question': u'What time of year is it in the image?',\n",
       " u'question_id': 26552001,\n",
       " u'question_type': u'what time',\n",
       " 'split': u'train2014'}"
      ]
     },
     "execution_count": 317,
     "metadata": {},
     "output_type": "execute_result"
    }
   ],
   "source": [
    "anno"
   ]
  },
  {
   "cell_type": "code",
   "execution_count": 256,
   "metadata": {},
   "outputs": [
    {
     "data": {
      "text/plain": [
       "['processed_answers',\n",
       " u'answer_type',\n",
       " 'image_path',\n",
       " 'q_tokens',\n",
       " 'question',\n",
       " u'multiple_choice_answer',\n",
       " u'answers',\n",
       " u'image_id',\n",
       " 'answer_count',\n",
       " 'split',\n",
       " u'question_type',\n",
       " 'a_tokens',\n",
       " u'question_id']"
      ]
     },
     "execution_count": 256,
     "metadata": {},
     "output_type": "execute_result"
    }
   ],
   "source": [
    "anno.keys()"
   ]
  },
  {
   "cell_type": "code",
   "execution_count": 257,
   "metadata": {},
   "outputs": [],
   "source": [
    "exist_answers = list(set(ans2scores1.keys()) | set(ans2scores2.keys()))"
   ]
  },
  {
   "cell_type": "code",
   "execution_count": 258,
   "metadata": {},
   "outputs": [],
   "source": [
    "ans2avg_score1 = {ans: np.array(scores).mean() for ans, scores in ans2scores1.items()}\n",
    "qtype2avg_score1 = {qtype: np.array(scores).mean() for qtype, scores in qtype2scores1.items()}\n",
    "atype2avg_score1 = {atype: np.array(scores).mean() for atype, scores in atype2scores1.items()}"
   ]
  },
  {
   "cell_type": "code",
   "execution_count": 259,
   "metadata": {},
   "outputs": [],
   "source": [
    "ans2avg_score2 = {ans: np.array(scores).mean() for ans, scores in ans2scores2.items()}\n",
    "qtype2avg_score2 = {qtype: np.array(scores).mean() for qtype, scores in qtype2scores2.items()}\n",
    "atype2avg_score2 = {atype: np.array(scores).mean() for atype, scores in atype2scores2.items()}"
   ]
  },
  {
   "cell_type": "code",
   "execution_count": 260,
   "metadata": {},
   "outputs": [],
   "source": [
    "ans2avg_scores = {}\n",
    "for ans in test_answers:\n",
    "    s1 = ans2avg_score1.get(ans, 0)\n",
    "    s2 = ans2avg_score2.get(ans, 0)\n",
    "    ans2avg_scores[ans] = (s1, s2)"
   ]
  },
  {
   "cell_type": "code",
   "execution_count": 261,
   "metadata": {},
   "outputs": [],
   "source": [
    "qtype2avg_scores = {}\n",
    "for qtype in qtype2avg_score1:\n",
    "    s1 = qtype2avg_score1.get(qtype, 0)\n",
    "    s2 = qtype2avg_score2.get(qtype, 0)\n",
    "    qtype2avg_scores[qtype] = (s1, s2)\n",
    "atype2avg_scores = {}\n",
    "for atype in atype2avg_score1:\n",
    "    s1 = atype2avg_score1.get(atype, 0)\n",
    "    s2 = atype2avg_score2.get(atype, 0)\n",
    "    atype2avg_scores[atype] = (s1, s2)"
   ]
  },
  {
   "cell_type": "code",
   "execution_count": 279,
   "metadata": {},
   "outputs": [],
   "source": [
    "ans, s12 = zip(*sorted(ans2avg_scores.items(), key=lambda x: max(x[1][0], x[1][1]), reverse=True))\n",
    "s1, s2 = zip(*s12)"
   ]
  },
  {
   "cell_type": "code",
   "execution_count": 263,
   "metadata": {},
   "outputs": [],
   "source": [
    "qtypes, qtype_s12 = zip(*sorted(qtype2avg_scores.items(), key=lambda x: max(x[1][0], x[1][1]), reverse=True))\n",
    "qtype_s1, qtype_s2 = zip(*qtype_s12)"
   ]
  },
  {
   "cell_type": "code",
   "execution_count": 264,
   "metadata": {},
   "outputs": [],
   "source": [
    "atypes, atype_s12 = zip(*sorted(atype2avg_scores.items(), key=lambda x: max(x[1][0], x[1][1]), reverse=True))\n",
    "atype_s1, atype_s2 = zip(*atype_s12)"
   ]
  },
  {
   "cell_type": "code",
   "execution_count": 369,
   "metadata": {},
   "outputs": [
    {
     "data": {
      "image/png": "[encoded data removed]",
      "text/plain": [
       "<matplotlib.figure.Figure at 0x7f9740fa8850>"
      ]
     },
     "metadata": {},
     "output_type": "display_data"
    }
   ],
   "source": [
    "plt.figure(figsize=(28, 4))\n",
    "i = 0\n",
    "j = i + 50\n",
    "i_ans = list(ans)[i:j]\n",
    "range_ans = np.array(list(range(len(i_ans))))\n",
    "bar_width = 0.5\n",
    "plt.bar(range_ans *1.3, list(s1)[i:j], bar_width, tick_label=i_ans, color='#756bb1')\n",
    "plt.bar(range_ans*1.3+bar_width, list(s2)[i:j], bar_width, tick_label=i_ans, color='#31a354')\n",
    "plt.xticks(range_ans*1.3 + bar_width * 0.5, i_ans, rotation='vertical', fontsize=28)\n",
    "plt.yticks(fontsize=24)\n",
    "plt.ylabel('Average VQA score', fontsize=20)\n",
    "plt.legend(['Description', 'Wordnet'], fontsize=26, bbox_to_anchor=(0.84, 0.53))\n",
    "plt.savefig('plots/score_per_answer.png', bbox_inches='tight')\n",
    "plt.show()"
   ]
  },
  {
   "cell_type": "code",
   "execution_count": 271,
   "metadata": {},
   "outputs": [
    {
     "data": {
      "image/png": "[encoded data removed]",
      "text/plain": [
       "<matplotlib.figure.Figure at 0x7f975f3adc50>"
      ]
     },
     "metadata": {},
     "output_type": "display_data"
    }
   ],
   "source": [
    "plt.figure(figsize=(20, 10))\n",
    "i = 0\n",
    "j = i + 50\n",
    "i_qtype = list(qtypes)[i:j]\n",
    "range_qtype = np.array(list(range(len(i_qtype))))\n",
    "bar_width = 0.5\n",
    "plt.bar(range_qtype *1.3, list(qtype_s1)[i:j], bar_width, tick_label=i_qtype)\n",
    "plt.bar(range_qtype*1.3+bar_width, list(qtype_s2)[i:j], bar_width, tick_label=i_qtype)\n",
    "plt.xticks(range_qtype*1.3 + (bar_width *0.5), i_qtype, rotation='vertical', fontsize=20)\n",
    "plt.yticks(fontsize=20)\n",
    "plt.legend(['blankfill', 'wordset'], fontsize=20)\n",
    "plt.subplots_adjust(bottom=0.3)\n",
    "plt.savefig('temp_plot.png')\n",
    "plt.show()"
   ]
  },
  {
   "cell_type": "code",
   "execution_count": 267,
   "metadata": {},
   "outputs": [
    {
     "data": {
      "image/png": "[encoded data removed]",
      "text/plain": [
       "<matplotlib.figure.Figure at 0x7f9738cce250>"
      ]
     },
     "metadata": {},
     "output_type": "display_data"
    }
   ],
   "source": [
    "plt.figure(figsize=(20, 10))\n",
    "i = 0\n",
    "j = i + 50\n",
    "i_atype = list(atypes)[i:j]\n",
    "range_atype = np.array(list(range(len(i_atype))))\n",
    "bar_width = 0.5\n",
    "plt.bar(range_atype *1.3, list(atype_s1)[i:j], bar_width, tick_label=i_atype)\n",
    "plt.bar(range_atype*1.3+bar_width, list(atype_s2)[i:j], bar_width, tick_label=i_atype)\n",
    "plt.xticks(range_atype*1.3, i_atype, rotation='vertical', fontsize=20)\n",
    "plt.yticks(fontsize=20)\n",
    "plt.legend(['Ours', 'Sep-cls'], fontsize=20)\n",
    "plt.subplots_adjust(bottom=0.3)\n",
    "plt.savefig('temp_plot.png')\n",
    "plt.show()"
   ]
  },
  {
   "cell_type": "code",
   "execution_count": 27,
   "metadata": {},
   "outputs": [],
   "source": [
    "ans1, score1 = zip(*sorted(ans2avg_score1.items(), key=lambda x: x[1], reverse=True))"
   ]
  },
  {
   "cell_type": "code",
   "execution_count": 28,
   "metadata": {},
   "outputs": [],
   "source": [
    "ans2, score2 = zip(*sorted(ans2avg_score2.items(), key=lambda x: x[1], reverse=True))"
   ]
  },
  {
   "cell_type": "code",
   "execution_count": 29,
   "metadata": {},
   "outputs": [
    {
     "data": {
      "image/png": "[encoded data removed]",
      "text/plain": [
       "<matplotlib.figure.Figure at 0x7f975e17aed0>"
      ]
     },
     "metadata": {},
     "output_type": "display_data"
    }
   ],
   "source": [
    "plt.bar(list(range(len(ans1))), list(score1), tick_label=list(ans1))\n",
    "plt.show()"
   ]
  },
  {
   "cell_type": "code",
   "execution_count": 30,
   "metadata": {},
   "outputs": [
    {
     "data": {
      "image/png": "[encoded data removed]",
      "text/plain": [
       "<matplotlib.figure.Figure at 0x7f975b86d310>"
      ]
     },
     "metadata": {},
     "output_type": "display_data"
    }
   ],
   "source": [
    "plt.bar(list(range(len(ans2))), list(score2), tick_label=list(ans2))\n",
    "plt.bar(list(range(len(ans1))), list(score1), tick_label=list(ans1))\n",
    "plt.legend(['a', 'b'])\n",
    "plt.show()"
   ]
  },
  {
   "cell_type": "code",
   "execution_count": 31,
   "metadata": {},
   "outputs": [
    {
     "ename": "SyntaxError",
     "evalue": "unexpected EOF while parsing (<ipython-input-31-a3d650cc261c>, line 1)",
     "output_type": "error",
     "traceback": [
      "\u001b[0;36m  File \u001b[0;32m\"<ipython-input-31-a3d650cc261c>\"\u001b[0;36m, line \u001b[0;32m1\u001b[0m\n\u001b[0;31m    plt.bar(list(range(len([ans2avg_score1])\u001b[0m\n\u001b[0m                                            ^\u001b[0m\n\u001b[0;31mSyntaxError\u001b[0m\u001b[0;31m:\u001b[0m unexpected EOF while parsing\n"
     ]
    }
   ],
   "source": [
    "plt.bar(list(range(len([ans2avg_score1])"
   ]
  },
  {
   "cell_type": "code",
   "execution_count": null,
   "metadata": {},
   "outputs": [],
   "source": []
  },
  {
   "cell_type": "code",
   "execution_count": null,
   "metadata": {},
   "outputs": [],
   "source": [
    "plt.bar([1,2,3], [2,3,4], tick_label=['a','b','c'])\n",
    "plt.bar([1,2,3], [2,3,4], tick_label=['a','b','c'])\n",
    "plt.show()"
   ]
  },
  {
   "cell_type": "code",
   "execution_count": null,
   "metadata": {},
   "outputs": [],
   "source": []
  },
  {
   "cell_type": "code",
   "execution_count": null,
   "metadata": {},
   "outputs": [],
   "source": []
  },
  {
   "cell_type": "code",
   "execution_count": 113,
   "metadata": {},
   "outputs": [
    {
     "data": {
      "text/plain": [
       "391"
      ]
     },
     "execution_count": 113,
     "metadata": {},
     "output_type": "execute_result"
    }
   ],
   "source": [
    "len(test_answers)"
   ]
  },
  {
   "cell_type": "code",
   "execution_count": null,
   "metadata": {},
   "outputs": [],
   "source": []
  },
  {
   "cell_type": "code",
   "execution_count": null,
   "metadata": {},
   "outputs": [],
   "source": []
  },
  {
   "cell_type": "code",
   "execution_count": 102,
   "metadata": {},
   "outputs": [
    {
     "name": "stdout",
     "output_type": "stream",
     "text": [
      "20802\n",
      "10760\n",
      "1.0\n",
      "[(u\"what color is this man 's shirt ?\", 0.00028843380444188056), (u'what color is on the back wall ?', 4.8072300740313434e-05), (u'what is this made of ?', 4.8072300740313434e-05)]\n"
     ]
    }
   ],
   "source": [
    "questions = [qid2res1[qid]['question'] for qid in pure_test_qids]\n",
    "print(len(questions))\n",
    "question_set = set(questions)\n",
    "print(len(question_set))\n",
    "question_count = dict(Counter(questions))\n",
    "total_q = float(sum(question_count.values()))\n",
    "question_prob = {q: cnt / total_q for q, cnt in question_count.items()}\n",
    "print(sum(question_prob.values()))\n",
    "print(question_prob.items()[:3])"
   ]
  },
  {
   "cell_type": "code",
   "execution_count": 103,
   "metadata": {},
   "outputs": [
    {
     "name": "stdout",
     "output_type": "stream",
     "text": [
      "20802\n",
      "18081\n",
      "[('val2014-COCO_val2014_000000471625.jpg', 4.8072300740313434e-05), ('train2014-COCO_train2014_000000098746.jpg', 4.8072300740313434e-05), ('train2014-COCO_train2014_000000240568.jpg', 4.8072300740313434e-05)]\n"
     ]
    }
   ],
   "source": [
    "images = [qid2res1[qid]['image_id'] for qid in pure_test_qids]\n",
    "print(len(images))\n",
    "image_set = set(images)\n",
    "print(len(image_set))\n",
    "image_count = dict(Counter(images))\n",
    "total_image = float(sum(image_count.values()))\n",
    "image_prob = {i: cnt / total_image for i, cnt in image_count.items()}\n",
    "print(image_prob.items()[:3])"
   ]
  },
  {
   "cell_type": "code",
   "execution_count": 104,
   "metadata": {},
   "outputs": [
    {
     "name": "stdout",
     "output_type": "stream",
     "text": [
      "(20802, 20802)\n",
      "(1068, 1055, 1309)\n",
      "1.0\n",
      "[(u'shop', 0.0001922892065584671), (u'swirls', 4.807230043780926e-12), (u'coach', 4.807230524503931e-05)]\n",
      "1.0\n",
      "[(u'shop', 4.807230043780956e-12), (u'swirls', 4.807230524503961e-05), (u'coach', 4.807230043780956e-12)]\n"
     ]
    }
   ],
   "source": [
    "preds1 = [qid2res1[qid]['pred'] for qid in pure_test_qids]\n",
    "preds2 = [qid2res2[qid]['pred'] for qid in pure_test_qids]\n",
    "print(len(preds1), len(preds2))\n",
    "pred_set1 = set(preds1)\n",
    "pred_set2 = set(preds2)\n",
    "pred_total_set = pred_set1 | pred_set2\n",
    "print(len(pred_set1), len(pred_set2), len(pred_total_set))\n",
    "pred_count1 = dict(Counter(preds1))\n",
    "pred_count2 = dict(Counter(preds2))\n",
    "eps = 1e-7\n",
    "for v in list(pred_total_set):\n",
    "    if v in pred_count1:\n",
    "        pred_count1[v] += eps\n",
    "    else:\n",
    "        pred_count1[v] = eps\n",
    "    if v in pred_count2:\n",
    "        pred_count2[v] += eps\n",
    "    else:\n",
    "        pred_count2[v] = eps\n",
    "total_pred1 = float(sum(pred_count1.values()))\n",
    "pred_prob1 = {p: cnt / total_pred1 for p, cnt in pred_count1.items()}\n",
    "print(sum(pred_prob1.values()))\n",
    "print(pred_prob1.items()[:3])\n",
    "total_pred2 = float(sum(pred_count2.values()))\n",
    "pred_prob2 = {p: cnt / total_pred2 for p, cnt in pred_count2.items()}\n",
    "print(sum(pred_prob2.values()))\n",
    "print(pred_prob2.items()[:3])"
   ]
  },
  {
   "cell_type": "code",
   "execution_count": 23,
   "metadata": {},
   "outputs": [],
   "source": [
    "eps = 1e-7"
   ]
  },
  {
   "cell_type": "code",
   "execution_count": 105,
   "metadata": {},
   "outputs": [
    {
     "name": "stdout",
     "output_type": "stream",
     "text": [
      "(20802, 20802)\n",
      "(20792, 20793, 30740)\n",
      "0.999999999999\n",
      "[(u'what kind of meat is being prepared here ?***construction***val2014-COCO_val2014_000000533452.jpg', 4.807229844366557e-05), (u'sunny or overcast ?***overcast***train2014-COCO_train2014_000000115356.jpg', 4.807229844366557e-05), (u'what animal is this ?***cat***train2014-COCO_train2014_000000186442.jpg', 4.807229844366557e-05), (u'what is flying under the clouds ?***kite***train2014-COCO_train2014_000000018748.jpg', 4.807229844366557e-05), (u'what color is the water ?***brown***train2014-COCO_train2014_000000118162.jpg', 4.80722936364362e-12)]\n",
      "0.999999999999\n",
      "[(u'what kind of meat is being prepared here ?***construction***val2014-COCO_val2014_000000533452.jpg', 4.807229363643626e-12), (u'sunny or overcast ?***overcast***train2014-COCO_train2014_000000115356.jpg', 4.807229844366563e-05), (u'what animal is this ?***cat***train2014-COCO_train2014_000000186442.jpg', 4.807229844366563e-05), (u'what color is the water ?***brown***train2014-COCO_train2014_000000118162.jpg', 4.807229844366563e-05), (u'what color is the bowl ?***white***val2014-COCO_val2014_000000092107.jpg', 4.807229844366563e-05)]\n"
     ]
    }
   ],
   "source": [
    "triples1 = [qid2res1[qid]['question'] + '***' + qid2res1[qid]['pred'] + '***' + qid2res1[qid]['image_id']\n",
    "           for qid in pure_test_qids]\n",
    "triples2 = [qid2res2[qid]['question'] + '***' + qid2res2[qid]['pred'] + '***' + qid2res2[qid]['image_id']\n",
    "           for qid in pure_test_qids]\n",
    "print(len(triples1), len(triples2))\n",
    "triple_set1 = set(triples1)\n",
    "triple_set2 = set(triples2)\n",
    "triple_total_set = triple_set1 | triple_set2\n",
    "print(len(triple_set1), len(triple_set2), len(triple_total_set))\n",
    "triple_count1 = dict(Counter(triples1))\n",
    "triple_count2 = dict(Counter(triples2))\n",
    "for v in list(triple_total_set):\n",
    "    if v in triple_count1:\n",
    "        triple_count1[v] += eps\n",
    "    else:\n",
    "        triple_count1[v] = eps\n",
    "    if v in triple_count2:\n",
    "        triple_count2[v] += eps\n",
    "    else:\n",
    "        triple_count2[v] = eps\n",
    "total_triple1 = float(sum(triple_count1.values()))\n",
    "triple_prob1 = {q: cnt / total_triple1 for q, cnt in triple_count1.items()}\n",
    "print(sum(triple_prob1.values()))\n",
    "print(triple_prob1.items()[:5])\n",
    "total_triple2 = float(sum(triple_count2.values()))\n",
    "triple_prob2 = {q: cnt / total_triple2 for q, cnt in triple_count2.items()}\n",
    "print(sum(triple_prob2.values()))\n",
    "print(triple_prob2.items()[:5])"
   ]
  },
  {
   "cell_type": "code",
   "execution_count": 106,
   "metadata": {},
   "outputs": [
    {
     "name": "stderr",
     "output_type": "stream",
     "text": [
      "100%|██████████| 30740/30740 [00:00<00:00, 193350.54it/s]"
     ]
    },
    {
     "name": "stdout",
     "output_type": "stream",
     "text": [
      "12.996268387\n"
     ]
    },
    {
     "name": "stderr",
     "output_type": "stream",
     "text": [
      "\n"
     ]
    }
   ],
   "source": [
    "triple_prob = triple_prob1\n",
    "pred_prob = pred_prob1\n",
    "toc = 0\n",
    "for triple in tqdm(triple_prob):\n",
    "    tri_p = triple_prob[triple]\n",
    "    q, a, i = triple.split('***')\n",
    "    q_p = question_prob[q]\n",
    "    a_p = pred_prob[a]\n",
    "    i_p = image_prob[i]\n",
    "    toc += tri_p * math.log(tri_p / (q_p * a_p * i_p))\n",
    "print(toc)"
   ]
  },
  {
   "cell_type": "code",
   "execution_count": 107,
   "metadata": {},
   "outputs": [
    {
     "name": "stderr",
     "output_type": "stream",
     "text": [
      "100%|██████████| 30740/30740 [00:00<00:00, 147917.19it/s]"
     ]
    },
    {
     "name": "stdout",
     "output_type": "stream",
     "text": [
      "13.1041743419\n"
     ]
    },
    {
     "name": "stderr",
     "output_type": "stream",
     "text": [
      "\n"
     ]
    }
   ],
   "source": [
    "triple_prob = triple_prob2\n",
    "pred_prob = pred_prob2\n",
    "toc = 0\n",
    "for triple in tqdm(triple_prob):\n",
    "    tri_p = triple_prob[triple]\n",
    "    q, a, i = triple.split('***')\n",
    "    q_p = question_prob[q]\n",
    "    a_p = pred_prob[a]\n",
    "    i_p = image_prob[i]\n",
    "    toc += tri_p * math.log(tri_p / (q_p * a_p * i_p))\n",
    "print(toc)"
   ]
  },
  {
   "cell_type": "code",
   "execution_count": 108,
   "metadata": {},
   "outputs": [
    {
     "name": "stdout",
     "output_type": "stream",
     "text": [
      "(20802, 20802)\n",
      "(13518, 13762, 20859)\n",
      "1.0\n",
      "[(u'who is the man with the gray pants ?***umpire', 4.807230072712031e-05), (u'is this design more modern or traditional ?***chinese', 4.807230072712031e-05), (u'what is under the plate ?***table', 4.807230072712031e-05), (u'who is riding the elephant ?***elephant', 4.807229591989072e-12), (u'what is the game called ?***skateboard', 4.807230072712031e-05)]\n",
      "1.0\n",
      "[(u'who is the man with the gray pants ?***umpire', 4.807230072712168e-05), (u'is this design more modern or traditional ?***chinese', 4.807229591989208e-12), (u'what is under the plate ?***table', 4.807229591989208e-12), (u'who is riding the elephant ?***elephant', 4.807230072712168e-05), (u'what is the game called ?***skateboard', 4.807230072712168e-05)]\n"
     ]
    }
   ],
   "source": [
    "tuples1 = [qid2res1[qid]['question'] + '***' + qid2res1[qid]['pred']\n",
    "          for qid in pure_test_qids]\n",
    "tuples2 = [qid2res2[qid]['question'] + '***' + qid2res2[qid]['pred']\n",
    "          for qid in pure_test_qids]\n",
    "print(len(tuples1), len(tuples2))\n",
    "tuple_set1 = set(tuples1)\n",
    "tuple_set2 = set(tuples2)\n",
    "tuple_total_set = tuple_set1 | tuple_set2\n",
    "print(len(tuple_set1), len(tuple_set2), len(tuple_total_set))\n",
    "tuple_count1 = dict(Counter(tuples1))\n",
    "tuple_count2 = dict(Counter(tuples2))\n",
    "for v in list(tuple_total_set):\n",
    "    if v in tuple_count1:\n",
    "        tuple_count1[v] += eps\n",
    "    else:\n",
    "        tuple_count1[v] = eps\n",
    "    if v in tuple_count2:\n",
    "        tuple_count2[v] += eps\n",
    "    else:\n",
    "        tuple_count2[v] = eps\n",
    "total_tuple1 = float(sum(tuple_count1.values()))\n",
    "tuple_prob1 = {q: cnt / total_tuple1 for q, cnt in tuple_count1.items()}\n",
    "print(sum(tuple_prob1.values()))\n",
    "print(tuple_prob1.items()[:5])\n",
    "total_tuple2 = float(sum(tuple_count2.values()))\n",
    "tuple_prob2 = {q: cnt / total_tuple2 for q, cnt in tuple_count2.items()}\n",
    "print(sum(tuple_prob2.values()))\n",
    "print(tuple_prob2.items()[:5])"
   ]
  },
  {
   "cell_type": "code",
   "execution_count": 109,
   "metadata": {},
   "outputs": [
    {
     "name": "stderr",
     "output_type": "stream",
     "text": [
      "100%|██████████| 20859/20859 [00:00<00:00, 195277.89it/s]"
     ]
    },
    {
     "name": "stdout",
     "output_type": "stream",
     "text": [
      "4.33528044529\n"
     ]
    },
    {
     "name": "stderr",
     "output_type": "stream",
     "text": [
      "\n"
     ]
    }
   ],
   "source": [
    "tuple_prob = tuple_prob1\n",
    "pred_prob = pred_prob1\n",
    "toc = 0\n",
    "for tup in tqdm(tuple_prob):\n",
    "    bi_p = tuple_prob[tup]\n",
    "    q, a = tup.split('***')\n",
    "    q_p = question_prob[q]\n",
    "    a_p = pred_prob[a]\n",
    "    toc += bi_p * math.log(bi_p / (q_p * a_p))\n",
    "print(toc)"
   ]
  },
  {
   "cell_type": "code",
   "execution_count": 110,
   "metadata": {},
   "outputs": [
    {
     "name": "stderr",
     "output_type": "stream",
     "text": [
      "100%|██████████| 20859/20859 [00:00<00:00, 198846.29it/s]"
     ]
    },
    {
     "name": "stdout",
     "output_type": "stream",
     "text": [
      "4.38598184473\n"
     ]
    },
    {
     "name": "stderr",
     "output_type": "stream",
     "text": [
      "\n"
     ]
    }
   ],
   "source": [
    "tuple_prob = tuple_prob2\n",
    "pred_prob = pred_prob2\n",
    "toc = 0\n",
    "for tup in tqdm(tuple_prob):\n",
    "    bi_p = tuple_prob[tup]\n",
    "    q, a = tup.split('***')\n",
    "    q_p = question_prob[q]\n",
    "    a_p = pred_prob[a]\n",
    "    toc += bi_p * math.log(bi_p / (q_p * a_p))\n",
    "print(toc)"
   ]
  },
  {
   "cell_type": "code",
   "execution_count": null,
   "metadata": {},
   "outputs": [],
   "source": []
  },
  {
   "cell_type": "code",
   "execution_count": null,
   "metadata": {},
   "outputs": [],
   "source": [
    "triples1 = [qid2res1[qid]['question'] + '***' + qid2res1[qid]['pred'] + '***' + qid2res1[qid]['image_id']\n",
    "           for qid in pure_test_qids]\n",
    "triples2 = [qid2res2[qid]['question'] + '***' + qid2res2[qid]['pred'] + '***' + qid2res2[qid]['image_id']\n",
    "           for qid in pure_test_qids]\n",
    "print(len(triples1), len(triples2))\n",
    "triple_set1 = set(triples1)\n",
    "triple_set2 = set(triples2)\n",
    "triple_total_set = triple_set1 | triple_set2\n",
    "print(len(triple_set1), len(triple_set2), len(triple_total_set))\n",
    "triple_count1 = dict(Counter(triples1))\n",
    "triple_count2 = dict(Counter(triples2))\n",
    "for v in list(triple_total_set):\n",
    "    if v in triple_count1:\n",
    "        triple_count1[v] += eps\n",
    "    else:\n",
    "        triple_count1[v] = eps\n",
    "    if v in triple_count2:\n",
    "        triple_count2[v] += eps\n",
    "    else:\n",
    "        triple_count2[v] = eps\n",
    "total_triple1 = float(sum(triple_count1.values()))\n",
    "triple_prob1 = {q: cnt / total_triple1 for q, cnt in triple_count1.items()}\n",
    "print(sum(triple_prob1.values()))\n",
    "print(triple_prob1.items()[:5])\n",
    "total_triple2 = float(sum(triple_count2.values()))\n",
    "triple_prob2 = {q: cnt / total_triple2 for q, cnt in triple_count2.items()}\n",
    "print(sum(triple_prob2.values()))\n",
    "print(triple_prob2.items()[:5])"
   ]
  },
  {
   "cell_type": "code",
   "execution_count": null,
   "metadata": {},
   "outputs": [],
   "source": []
  },
  {
   "cell_type": "code",
   "execution_count": null,
   "metadata": {},
   "outputs": [],
   "source": []
  },
  {
   "cell_type": "code",
   "execution_count": null,
   "metadata": {},
   "outputs": [],
   "source": []
  },
  {
   "cell_type": "code",
   "execution_count": 90,
   "metadata": {},
   "outputs": [],
   "source": [
    "# ws + bf\n",
    "q_embed_dir1 = 'experiments/important/0424_main_contribution_exp_answer_zs_3div4/vqa_vlmap_answer_d_qa_split_objattr_answer_3div4_genome_memft_check_all_answer_thres1_50000_thres2_-1_tf_record_memft_vfeat_bottomup_36_my_bf_or_wordset_sp_bs512_lr0.001_20180423-205117/model-4001_eval_train_dump_heavy_20180510-142256'\n",
    "# noc ws + bf\n",
    "q_embed_dir2 = 'experiments/important/0424_main_contribution_exp_answer_zs_3div4/vqa_vlmap_answer_noc_d_qa_split_objattr_answer_3div4_genome_memft_check_all_answer_thres1_50000_thres2_-1_tf_record_memft_vfeat_bottomup_36_my_noc_bf_or_wordset_4801_bs512_lr0.001_20180424-171148/model-2401_eval_train_dump_heavy_20180510-143431'"
   ]
  },
  {
   "cell_type": "code",
   "execution_count": 91,
   "metadata": {},
   "outputs": [
    {
     "name": "stdout",
     "output_type": "stream",
     "text": [
      "431853\n",
      "170535\n",
      "1.0\n",
      "[(u'how many people are looking at the motorcycle ?', 4.631205525954434e-06), (u'what does the name in the lower right hand corner signify ?', 2.315602762977217e-06), (u'is the woman wearing earrings ?', 4.3996452496567116e-05)]\n"
     ]
    }
   ],
   "source": [
    "questions = [qid2res1[qid]['question'] for qid in qid2res1]\n",
    "print(len(questions))\n",
    "question_set = set(questions)\n",
    "print(len(question_set))\n",
    "question_count = dict(Counter(questions))\n",
    "total_q = float(sum(question_count.values()))\n",
    "question_prob = {q: cnt / total_q for q, cnt in question_count.items()}\n",
    "print(sum(question_prob.values()))\n",
    "print(question_prob.items()[:3])"
   ]
  },
  {
   "cell_type": "code",
   "execution_count": 92,
   "metadata": {},
   "outputs": [
    {
     "name": "stdout",
     "output_type": "stream",
     "text": [
      "431853\n",
      "120266\n",
      "[('train2014-COCO_train2014_000000167169.jpg', 4.631205525954434e-06), ('train2014-COCO_train2014_000000291557.jpg', 6.94680828893165e-06), ('train2014-COCO_train2014_000000219177.jpg', 4.631205525954434e-06)]\n"
     ]
    }
   ],
   "source": [
    "images = [qid2res1[qid]['image_id'] for qid in qid2res1]\n",
    "print(len(images))\n",
    "image_set = set(images)\n",
    "print(len(image_set))\n",
    "image_count = dict(Counter(images))\n",
    "total_image = float(sum(image_count.values()))\n",
    "image_prob = {i: cnt / total_image for i, cnt in image_count.items()}\n",
    "print(image_prob.items()[:3])"
   ]
  },
  {
   "cell_type": "code",
   "execution_count": 93,
   "metadata": {},
   "outputs": [
    {
     "name": "stdout",
     "output_type": "stream",
     "text": [
      "(431853, 431853)\n",
      "(1558, 1577, 1631)\n",
      "1.0\n",
      "[(u'hats', 0.00015051417976823353), (u'yellow', 0.006122453703231008), (u'woods', 6.946808517868273e-06)]\n",
      "1.0\n",
      "[(u'hats', 0.00012272694662300153), (u'yellow', 0.008623304686301885), (u'woods', 9.030850795356422e-05)]\n"
     ]
    }
   ],
   "source": [
    "preds1 = [qid2res1[qid]['pred'] for qid in qid2res1]\n",
    "preds2 = [qid2res2[qid]['pred'] for qid in qid2res2]\n",
    "print(len(preds1), len(preds2))\n",
    "pred_set1 = set(preds1)\n",
    "pred_set2 = set(preds2)\n",
    "pred_total_set = pred_set1 | pred_set2\n",
    "print(len(pred_set1), len(pred_set2), len(pred_total_set))\n",
    "pred_count1 = dict(Counter(preds1))\n",
    "pred_count2 = dict(Counter(preds2))\n",
    "eps = 1e-7\n",
    "for v in list(pred_total_set):\n",
    "    if v in pred_count1:\n",
    "        pred_count1[v] += eps\n",
    "    else:\n",
    "        pred_count1[v] = eps\n",
    "    if v in pred_count2:\n",
    "        pred_count2[v] += eps\n",
    "    else:\n",
    "        pred_count2[v] = eps\n",
    "total_pred1 = float(sum(pred_count1.values()))\n",
    "pred_prob1 = {p: cnt / total_pred1 for p, cnt in pred_count1.items()}\n",
    "print(sum(pred_prob1.values()))\n",
    "print(pred_prob1.items()[:3])\n",
    "total_pred2 = float(sum(pred_count2.values()))\n",
    "pred_prob2 = {p: cnt / total_pred2 for p, cnt in pred_count2.items()}\n",
    "print(sum(pred_prob2.values()))\n",
    "print(pred_prob2.items()[:3])"
   ]
  },
  {
   "cell_type": "code",
   "execution_count": 95,
   "metadata": {},
   "outputs": [
    {
     "name": "stdout",
     "output_type": "stream",
     "text": [
      "(431853, 431853)\n",
      "(431794, 431804, 741323)\n",
      "0.999999999997\n",
      "[(u'is the napkin made of paper ?***string***train2014-COCO_train2014_000000046353.jpg', 2.3156025970359658e-06), (u'is this restroom clean ?***in water***train2014-COCO_train2014_000000095891.jpg', 2.3156025970359658e-06), (u'are the giraffes all facing the same direction ?***brush***train2014-COCO_train2014_000000471056.jpg', 2.3156025970359658e-06), (u'what are these people getting ready to do ?***walk***train2014-COCO_train2014_000000545361.jpg', 2.3156025970359658e-06), (u'which way is the bird looking ?***right***train2014-COCO_train2014_000000521948.jpg', 2.315602365475729e-13)]\n",
      "0.999999999997\n",
      "[(u'is the napkin made of paper ?***string***train2014-COCO_train2014_000000046353.jpg', 2.315602365475729e-13), (u'is this restroom clean ?***in water***train2014-COCO_train2014_000000095891.jpg', 2.315602365475729e-13), (u'are the giraffes all facing the same direction ?***brush***train2014-COCO_train2014_000000471056.jpg', 2.315602365475729e-13), (u'what are these people getting ready to do ?***walk***train2014-COCO_train2014_000000545361.jpg', 2.315602365475729e-13), (u'which way is the bird looking ?***right***train2014-COCO_train2014_000000521948.jpg', 2.315602597035966e-06)]\n"
     ]
    }
   ],
   "source": [
    "eps=1e-7\n",
    "triples1 = [qid2res1[qid]['question'] + '***' + qid2res1[qid]['pred'] + '***' + qid2res1[qid]['image_id']\n",
    "           for qid in qid2res1]\n",
    "triples2 = [qid2res2[qid]['question'] + '***' + qid2res2[qid]['pred'] + '***' + qid2res2[qid]['image_id']\n",
    "           for qid in qid2res2]\n",
    "print(len(triples1), len(triples2))\n",
    "triple_set1 = set(triples1)\n",
    "triple_set2 = set(triples2)\n",
    "triple_total_set = triple_set1 | triple_set2\n",
    "print(len(triple_set1), len(triple_set2), len(triple_total_set))\n",
    "triple_count1 = dict(Counter(triples1))\n",
    "triple_count2 = dict(Counter(triples2))\n",
    "for v in list(triple_total_set):\n",
    "    if v in triple_count1:\n",
    "        triple_count1[v] += eps\n",
    "    else:\n",
    "        triple_count1[v] = eps\n",
    "    if v in triple_count2:\n",
    "        triple_count2[v] += eps\n",
    "    else:\n",
    "        triple_count2[v] = eps\n",
    "total_triple1 = float(sum(triple_count1.values()))\n",
    "triple_prob1 = {q: cnt / total_triple1 for q, cnt in triple_count1.items()}\n",
    "print(sum(triple_prob1.values()))\n",
    "print(triple_prob1.items()[:5])\n",
    "total_triple2 = float(sum(triple_count2.values()))\n",
    "triple_prob2 = {q: cnt / total_triple2 for q, cnt in triple_count2.items()}\n",
    "print(sum(triple_prob2.values()))\n",
    "print(triple_prob2.items()[:5])"
   ]
  },
  {
   "cell_type": "code",
   "execution_count": 96,
   "metadata": {},
   "outputs": [
    {
     "name": "stderr",
     "output_type": "stream",
     "text": [
      "100%|██████████| 741323/741323 [00:02<00:00, 309904.80it/s]"
     ]
    },
    {
     "name": "stdout",
     "output_type": "stream",
     "text": [
      "15.0280799887\n"
     ]
    },
    {
     "name": "stderr",
     "output_type": "stream",
     "text": [
      "\n"
     ]
    }
   ],
   "source": [
    "triple_prob = triple_prob1\n",
    "pred_prob = pred_prob1\n",
    "toc = 0\n",
    "for triple in tqdm(triple_prob):\n",
    "    tri_p = triple_prob[triple]\n",
    "    q, a, i = triple.split('***')\n",
    "    q_p = question_prob[q]\n",
    "    a_p = pred_prob[a]\n",
    "    i_p = image_prob[i]\n",
    "    toc += tri_p * math.log(tri_p / (q_p * a_p * i_p))\n",
    "print(toc)"
   ]
  },
  {
   "cell_type": "code",
   "execution_count": 97,
   "metadata": {},
   "outputs": [
    {
     "name": "stderr",
     "output_type": "stream",
     "text": [
      "100%|██████████| 741323/741323 [00:02<00:00, 306877.46it/s]"
     ]
    },
    {
     "name": "stdout",
     "output_type": "stream",
     "text": [
      "15.0115313933\n"
     ]
    },
    {
     "name": "stderr",
     "output_type": "stream",
     "text": [
      "\n"
     ]
    }
   ],
   "source": [
    "triple_prob = triple_prob2\n",
    "pred_prob = pred_prob2\n",
    "toc = 0\n",
    "for triple in tqdm(triple_prob):\n",
    "    tri_p = triple_prob[triple]\n",
    "    q, a, i = triple.split('***')\n",
    "    q_p = question_prob[q]\n",
    "    a_p = pred_prob[a]\n",
    "    i_p = image_prob[i]\n",
    "    toc += tri_p * math.log(tri_p / (q_p * a_p * i_p))\n",
    "print(toc)"
   ]
  },
  {
   "cell_type": "code",
   "execution_count": null,
   "metadata": {},
   "outputs": [],
   "source": []
  },
  {
   "cell_type": "code",
   "execution_count": null,
   "metadata": {},
   "outputs": [],
   "source": []
  },
  {
   "cell_type": "code",
   "execution_count": 99,
   "metadata": {},
   "outputs": [
    {
     "name": "stdout",
     "output_type": "stream",
     "text": [
      "13.1041750538\n"
     ]
    }
   ],
   "source": [
    "# ws + bf baseline - noc\n",
    "print(toc)"
   ]
  },
  {
   "cell_type": "code",
   "execution_count": 78,
   "metadata": {},
   "outputs": [
    {
     "name": "stdout",
     "output_type": "stream",
     "text": [
      "12.996269079\n"
     ]
    }
   ],
   "source": [
    "# ws + bf ours\n",
    "print(toc)"
   ]
  },
  {
   "cell_type": "code",
   "execution_count": 57,
   "metadata": {},
   "outputs": [],
   "source": [
    "a = 1"
   ]
  },
  {
   "cell_type": "code",
   "execution_count": 75,
   "metadata": {},
   "outputs": [
    {
     "data": {
      "text/plain": [
       "0.6931471805599453"
      ]
     },
     "execution_count": 75,
     "metadata": {},
     "output_type": "execute_result"
    }
   ],
   "source": [
    "math.log(2)"
   ]
  },
  {
   "cell_type": "code",
   "execution_count": 25,
   "metadata": {},
   "outputs": [
    {
     "data": {
      "text/plain": [
       "1538"
      ]
     },
     "execution_count": 25,
     "metadata": {},
     "output_type": "execute_result"
    }
   ],
   "source": []
  },
  {
   "cell_type": "code",
   "execution_count": 26,
   "metadata": {},
   "outputs": [],
   "source": []
  },
  {
   "cell_type": "code",
   "execution_count": 27,
   "metadata": {},
   "outputs": [
    {
     "data": {
      "text/plain": [
       "115121"
      ]
     },
     "execution_count": 27,
     "metadata": {},
     "output_type": "execute_result"
    }
   ],
   "source": [
    "len(images)"
   ]
  },
  {
   "cell_type": "code",
   "execution_count": 28,
   "metadata": {},
   "outputs": [],
   "source": [
    "image_set = set(images)"
   ]
  },
  {
   "cell_type": "code",
   "execution_count": 29,
   "metadata": {},
   "outputs": [
    {
     "data": {
      "text/plain": [
       "67926"
      ]
     },
     "execution_count": 29,
     "metadata": {},
     "output_type": "execute_result"
    }
   ],
   "source": [
    "len(image_set)"
   ]
  },
  {
   "cell_type": "code",
   "execution_count": null,
   "metadata": {},
   "outputs": [],
   "source": []
  }
 ],
 "metadata": {
  "kernelspec": {
   "display_name": "Python 2",
   "language": "python",
   "name": "python2"
  },
  "language_info": {
   "codemirror_mode": {
    "name": "ipython",
    "version": 2
   },
   "file_extension": ".py",
   "mimetype": "text/x-python",
   "name": "python",
   "nbconvert_exporter": "python",
   "pygments_lexer": "ipython2",
   "version": "2.7.12"
  }
 },
 "nbformat": 4,
 "nbformat_minor": 2
}
